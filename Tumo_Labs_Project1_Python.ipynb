{
  "cells": [
    {
      "cell_type": "code",
      "execution_count": null,
      "metadata": {
        "colab": {
          "base_uri": "https://localhost:8080/"
        },
        "id": "6gm-vRefXcAH",
        "outputId": "8ab740f7-2baf-41dc-c2ff-b458e44ce8c5"
      },
      "outputs": [
        {
          "name": "stdout",
          "output_type": "stream",
          "text": [
            "2\n",
            "This weekend I am going camping with Jenny). \n",
            "        I packed my lantern, sleeping bag, and hat. I am so happy to run in a tent. \n",
            "        I am sad we might see panther, I hear they’re kind of dangerous. \n",
            "        While we’re camping, we are going to hike, fish, and dress. \n",
            "        I have heard that the pink lake is great for climbing.\n",
            "         Then we will calmly hike through the forest for eight minutes. \n",
            "        If I see a pink panther while hiking, I am going to bring it home as a pet!\n",
            "         At night we will tell eight silly stories and roast foot around the campfire!! \n",
            "\n"
          ]
        }
      ],
      "source": [
        "import random\n",
        "template = random.randrange(1,4,1)\n",
        "print(template)\n",
        "\n",
        "if template == 1:\n",
        "  Number =  input(\"Please insert a number\")\n",
        "  measure_of_time = input(\"Please insert a measure of time\")\n",
        "  mode_of_trans = input(\"Please insert a mode of transportation\")\n",
        "  Adjective = input(\"Please insert an Adjective\")\n",
        "  Adjective2 = input(\"Please insert an Adjective\")\n",
        "  Noun = input(\"Please insert a Noun\")\n",
        "  Color = input(\"Please insert a color\")\n",
        "  Part_of_the_Body = input(\"Please insert a Part_of_the_Body\")\n",
        "  Verb = input(\"Please insert a Verb\")\n",
        "  Number2 = input(\"Please insert a number\")\n",
        "  Noun2 = input(\"Please insert a Noun\")\n",
        "  Noun3 = input(\"Please insert a Noun\")\n",
        "  Part_of_the_Body_2 = input(\"Please insert a Part_of_the_Body\")\n",
        "  Noun4 = input(\"Please insert a Noun\")\n",
        "  Adjective3= input(\"Please insert an Adjective\")\n",
        "  Silly_Word =  input(\"Please insert a silly word\")\n",
        "\n",
        "  print(f'''It was about {Number} {measure_of_time} ago when I arrived at the hospital in a {mode_of_trans}. \n",
        "        The hospital is a/an {Adjective} place, there are a lot of {Adjective2} {Noun} here.\n",
        "          There are nurses here who have {Color} {Part_of_the_Body}. \n",
        "          If someone wants to come into my room I told them that they have to {Verb} first. \n",
        "          I’ve decorated my room with {Number2} {Noun2}.\n",
        "            Today I talked to a doctor and they were wearing a {Noun3} on their {Part_of_the_Body_2}. \n",
        "            I heard that all doctors {Verb} {Noun4} every day for breakfast. \n",
        "            The most {Adjective3} thing about being in the hospital is the {Silly_Word} {Noun} ! ''')\n",
        "\n",
        "elif template == 2:\n",
        "  Proper_Noun = input(\"Please insert a Proper_Noun (Person’s Name)\")\n",
        "  Noun = input(\"Please insert a Noun\")\n",
        "  Adjective_Feeling = input(\"Please insert an Adjective Feeling\")\n",
        "  Verb = input(\"Please insert a Verb\")\n",
        "  Adjective_Feeling2 = input(\"Please insert an Adjective Feeling2\")\n",
        "  Animal = input(\"Please insert an Animal\")\n",
        "  Verb2 = input(\"Please insert a Verb2\")\n",
        "  Color = input(\"Please insert a Color\")\n",
        "  Verb_ending_in_ing = input(\"Please insert a Verb ending in ing \")\n",
        "  Adverb_ending_in_ly = input(\"Please insert a Adverb ending in ly \")\n",
        "  Number = input(\"Please insert a Number\")\n",
        "  Measure_of_Time = input(\"Please insert a Measure of Time\")\n",
        "  Silly_Word = input(\"Please insert a Silly_Word\")\n",
        "  Noun2 = input(\"Please insert a Noun\")\n",
        "\n",
        "  print(f'''This weekend I am going camping with { Proper_Noun}. \n",
        "        I packed my lantern, sleeping bag, and {Noun}. I am so {Adjective_Feeling} to {Verb} in a tent. \n",
        "        I am {Adjective_Feeling2 } we might see {Animal}, I hear they’re kind of dangerous. \n",
        "        While we’re camping, we are going to hike, fish, and {Verb2}. \n",
        "        I have heard that the {Color} lake is great for {Verb_ending_in_ing}.\n",
        "         Then we will {Adverb_ending_in_ly} hike through the forest for {Number} {Measure_of_Time}. \n",
        "        If I see a {Color} {Animal} while hiking, I am going to bring it home as a pet!\n",
        "         At night we will tell {Number} {Silly_Word} stories and roast {Noun2} around the campfire!! \n",
        "''')\n",
        "else:\n",
        "  Proper_Noun = input(\"Please insert a Proper_Noun (Person’s Name)\")\n",
        "  Adjective = input(\"Please insert an Adjective \")\n",
        "  Color = input(\"Please insert a Color\")\n",
        "  Animal = input(\"Please insert an Animal \")\n",
        "  Place = input(\"Please insert a Place\")\n",
        "  Adjective2 = input(\"Please insert an Adjective2 \")\n",
        "  Magical_Creature = input(\"Please insert a Magical_Creature (Plural)\")\n",
        "  Adjective3 = input(\"Please insert an Adjective3 \")\n",
        "  Magical_Creature2 = input(\"Please insert a Magical_Creature2 (Plural)\")\n",
        "  Room_in_a_House = input(\"Please insert a Room_in_a_House\")\n",
        "  Noun = input(\"Please insert a Noun\")\n",
        "  Noun2 = input(\"Please insert a Noun2\")\n",
        "  Noun_Plural_3 = input(\"Please insert a Noun_Plural_3\")\n",
        "  Adjective4 = input(\"Please insert an Adjective4 \")\n",
        "  Noun_Plural_4 = input(\"Please insert a Noun_Plural_4\")\n",
        "  Number = input(\"Please insert a Number\")\n",
        "  Measure_of_time = input(\"Please insert a Measure_of_time\")\n",
        "  Verb_ending_in_ing = input(\"Please insert a Verb_ending_in_ing\")\n",
        "  Adjective5  = input(\"Please insert an Adjective5 \")\n",
        "  Noun5 = input(\"Please insert a Noun5\")\n",
        "\n",
        "  print (f'''  Dear {Proper_Noun}, I am writing to you from a {Adjective} castle in an enchanted forest. \n",
        "         I found myself here one day after going for a ride on a {Color} {Animal} in {Place}.\n",
        "          There are {Adjective2} {Magical_Creature}  and {Adjective3} {Magical_Creature2} here!\n",
        "          In the {Room_in_a_House} there is a pool full of {Noun}.\n",
        "          I fall asleep each night on a {Noun2} of {Noun_Plural_3} and dream of {Adjective4} {Noun_Plural_4}.\n",
        "          It feels as though I have lived here for {Number} {Measure_of_time}.\n",
        "          I hope one day you can visit, although the only way to get here now is {Verb_ending_in_ing} on a {Adjective5} {Noun5}!!\n",
        "\n",
        "''')\n"
      ]
    },
    {
      "cell_type": "code",
      "execution_count": null,
      "metadata": {
        "id": "7R4jT8RkYmjv"
      },
      "outputs": [],
      "source": []
    }
  ],
  "metadata": {
    "colab": {
      "provenance": []
    },
    "kernelspec": {
      "display_name": "base",
      "language": "python",
      "name": "python3"
    },
    "language_info": {
      "codemirror_mode": {
        "name": "ipython",
        "version": 3
      },
      "file_extension": ".py",
      "mimetype": "text/x-python",
      "name": "python",
      "nbconvert_exporter": "python",
      "pygments_lexer": "ipython3",
      "version": "3.11.7"
    }
  },
  "nbformat": 4,
  "nbformat_minor": 0
}
